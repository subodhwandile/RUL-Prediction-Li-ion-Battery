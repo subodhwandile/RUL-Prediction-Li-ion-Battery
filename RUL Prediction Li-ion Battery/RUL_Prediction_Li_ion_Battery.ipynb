{
  "nbformat": 4,
  "nbformat_minor": 0,
  "metadata": {
    "colab": {
      "name": "RUL-Prediction-Li-ion-Battery.ipynb",
      "provenance": [],
      "collapsed_sections": []
    },
    "kernelspec": {
      "name": "python3",
      "display_name": "Python 3"
    }
  },
  "cells": [
    {
      "cell_type": "code",
      "metadata": {
        "id": "lcQ8ewFSdMqR",
        "colab_type": "code",
        "colab": {}
      },
      "source": [
        "import pandas as pd\n",
        "import numpy as np\n",
        "import tensorflow as tf\n",
        "from sklearn.preprocessing import scale\n",
        "from keras import layers\n",
        "from keras.layers import Input, Dense, Activation, ZeroPadding2D, BatchNormalization, Flatten, Conv2D\n",
        "from keras.layers import AveragePooling2D, MaxPooling2D, Dropout, GlobalMaxPooling2D, GlobalAveragePooling2D\n",
        "from keras.models import Model\n",
        "from keras.preprocessing import image\n",
        "from keras.utils import layer_utils\n",
        "from keras.utils.data_utils import get_file\n",
        "from keras.applications.imagenet_utils import preprocess_input\n",
        "import pydot\n",
        "from IPython.display import SVG\n",
        "from keras.utils.vis_utils import model_to_dot\n",
        "from keras.utils import plot_model\n",
        "from tensorflow.keras.utils import plot_model\n",
        "\n",
        "import keras.backend as K\n",
        "K.set_image_data_format('channels_last')\n",
        "import matplotlib.pyplot as plt\n",
        "from matplotlib.pyplot import imshow\n",
        "\n",
        "%matplotlib inline"
      ],
      "execution_count": null,
      "outputs": []
    },
    {
      "cell_type": "code",
      "metadata": {
        "id": "iotfxBIuiDE_",
        "colab_type": "code",
        "colab": {}
      },
      "source": [
        "data = pd.read_csv(\"PHM07.csv\")\n",
        "features = scale(data.iloc[:,2:26]) # select required columns and scale them\n",
        "labels = data.iloc[:,26] # select RUL\n",
        "# print(\"done right\")"
      ],
      "execution_count": null,
      "outputs": []
    },
    {
      "cell_type": "code",
      "metadata": {
        "id": "zgKfLuemrBZj",
        "colab_type": "code",
        "colab": {}
      },
      "source": [
        "def windows(nrows, size):\n",
        "    start,step = 0, 2\n",
        "    while start < nrows:\n",
        "        yield start, start + size\n",
        "        start += step\n",
        "\n",
        "def segment_signal(features,labels,window_size = 15):\n",
        "    segments = np.empty((0,window_size))\n",
        "    segment_labels = np.empty((0))\n",
        "    nrows = len(features)\n",
        "    for (start, end) in windows(nrows,window_size):\n",
        "        if(len(data.iloc[start:end]) == window_size):\n",
        "            segment = features[start:end].T  #Transpose to get segment of size 24 x 15 \n",
        "            label = labels[(end-1)]\n",
        "            segments = np.vstack([segments,segment]) \n",
        "            segment_labels = np.append(segment_labels,label)\n",
        "    segments = segments.reshape(-1,24,window_size,1) # number of features  = 24 \n",
        "    segment_labels = segment_labels.reshape(-1,1)\n",
        "    return segments,segment_labels"
      ],
      "execution_count": null,
      "outputs": []
    },
    {
      "cell_type": "code",
      "metadata": {
        "id": "VK6xIIwGif30",
        "colab_type": "code",
        "colab": {}
      },
      "source": [
        "segments, labels = segment_signal(features,labels)\n",
        "\n"
      ],
      "execution_count": null,
      "outputs": []
    },
    {
      "cell_type": "code",
      "metadata": {
        "id": "TS37DzeWi4wo",
        "colab_type": "code",
        "colab": {}
      },
      "source": [
        "train_test_split = np.random.rand(len(segments)) < 0.70\n",
        "train_x = segments[train_test_split]\n",
        "train_y = labels[train_test_split]\n",
        "test_x = segments[~train_test_split]\n",
        "test_y = labels[~train_test_split]\n"
      ],
      "execution_count": null,
      "outputs": []
    },
    {
      "cell_type": "code",
      "metadata": {
        "id": "519Qe6DDXl6g",
        "colab_type": "code",
        "colab": {
          "base_uri": "https://localhost:8080/",
          "height": 126
        },
        "outputId": "580c8c24-7c6b-40b9-a29e-d013e4071ce3"
      },
      "source": [
        "print (\"number of training examples = \" + str(train_x.shape[0]))\n",
        "print (\"number of test examples = \" + str(test_x.shape[0]))\n",
        "print (\"X_train shape: \" + str(train_x.shape))\n",
        "print (\"Y_train shape: \" + str(train_y.shape))\n",
        "print (\"X_test shape: \" + str(test_x.shape))\n",
        "print (\"Y_test shape: \" + str(test_y.shape))"
      ],
      "execution_count": null,
      "outputs": [
        {
          "output_type": "stream",
          "text": [
            "number of training examples = 7416\n",
            "number of test examples = 3155\n",
            "X_train shape: (7416, 24, 15, 1)\n",
            "Y_train shape: (7416, 1)\n",
            "X_test shape: (3155, 24, 15, 1)\n",
            "Y_test shape: (3155, 1)\n"
          ],
          "name": "stdout"
        }
      ]
    },
    {
      "cell_type": "code",
      "metadata": {
        "id": "ecYiVIsgaTVQ",
        "colab_type": "code",
        "colab": {}
      },
      "source": [
        "def HappyModel(input_shape):\n",
        "   \n",
        "    X_input = Input(input_shape)\n",
        "    \n",
        "    # Adding padding of 3.\n",
        "    Xa = ZeroPadding2D((3, 3))(X_input)\n",
        "    # Convolutional, F=7, S=1.\n",
        "    Xb = Conv2D(32, (7, 7), strides=(1, 1), name='conv0')(Xa)\n",
        "    # Batch Normalization after convolution. Axis=3, normalize over the #channels.\n",
        "    Xc = BatchNormalization(axis=3, name='bn0')(Xb)\n",
        "    # ReLU\n",
        "    Xd = Activation('relu')(Xc)\n",
        "\n",
        "    # Max Pooling F=2.\n",
        "    Xe = MaxPooling2D((2, 2), name='max_pool')(Xd)\n",
        "\n",
        "    # Flatten output\n",
        "    # Just one neuron for this layer.\n",
        "    Xf = Flatten()(Xe)\n",
        "    Xg = Dense(1, activation='relu', name='fc')(Xf)\n",
        "\n",
        "    # Model\n",
        "    model = Model(inputs=X_input, outputs=Xg, name='HappyModel')\n",
        "\n",
        "    return model"
      ],
      "execution_count": null,
      "outputs": []
    },
    {
      "cell_type": "code",
      "metadata": {
        "id": "VR0y0F6mbVWY",
        "colab_type": "code",
        "colab": {}
      },
      "source": [
        "happyModel = HappyModel(input_shape=(24,15,1))"
      ],
      "execution_count": null,
      "outputs": []
    },
    {
      "cell_type": "code",
      "metadata": {
        "id": "M6BNfhGkbYL5",
        "colab_type": "code",
        "colab": {}
      },
      "source": [
        "happyModel.compile(optimizer='Adam', loss='mse', metrics=['accuracy'])\n"
      ],
      "execution_count": null,
      "outputs": []
    },
    {
      "cell_type": "code",
      "metadata": {
        "id": "kRNurmuubaGw",
        "colab_type": "code",
        "colab": {
          "base_uri": "https://localhost:8080/",
          "height": 945
        },
        "outputId": "ab924ba7-00ba-42bb-d318-8e1da3e45143"
      },
      "source": [
        "happyModel.fit(x=train_x, y=train_y, batch_size=60, epochs=25)\n"
      ],
      "execution_count": null,
      "outputs": [
        {
          "output_type": "stream",
          "text": [
            "Epoch 1/25\n",
            "7416/7416 [==============================] - 3s 438us/step - loss: 3119.9509 - accuracy: 0.0063\n",
            "Epoch 2/25\n",
            "7416/7416 [==============================] - 3s 402us/step - loss: 3059.5492 - accuracy: 0.0073\n",
            "Epoch 3/25\n",
            "7416/7416 [==============================] - 3s 404us/step - loss: 3011.2898 - accuracy: 0.0055\n",
            "Epoch 4/25\n",
            "7416/7416 [==============================] - 3s 402us/step - loss: 2953.3792 - accuracy: 0.0059\n",
            "Epoch 5/25\n",
            "7416/7416 [==============================] - 3s 445us/step - loss: 2918.9938 - accuracy: 0.0067\n",
            "Epoch 6/25\n",
            "7416/7416 [==============================] - 4s 472us/step - loss: 2849.5804 - accuracy: 0.0082\n",
            "Epoch 7/25\n",
            "7416/7416 [==============================] - 3s 466us/step - loss: 2834.6507 - accuracy: 0.0082\n",
            "Epoch 8/25\n",
            "7416/7416 [==============================] - 4s 473us/step - loss: 2790.5128 - accuracy: 0.0085\n",
            "Epoch 9/25\n",
            "7416/7416 [==============================] - 3s 472us/step - loss: 2736.2948 - accuracy: 0.0092\n",
            "Epoch 10/25\n",
            "7416/7416 [==============================] - 3s 471us/step - loss: 2701.3916 - accuracy: 0.0093\n",
            "Epoch 11/25\n",
            "7416/7416 [==============================] - 3s 458us/step - loss: 2683.1965 - accuracy: 0.0073\n",
            "Epoch 12/25\n",
            "7416/7416 [==============================] - 3s 451us/step - loss: 2631.6657 - accuracy: 0.0097\n",
            "Epoch 13/25\n",
            "7416/7416 [==============================] - 3s 444us/step - loss: 2608.0112 - accuracy: 0.0100\n",
            "Epoch 14/25\n",
            "7416/7416 [==============================] - 3s 455us/step - loss: 2592.1158 - accuracy: 0.0081\n",
            "Epoch 15/25\n",
            "7416/7416 [==============================] - 3s 448us/step - loss: 2546.2725 - accuracy: 0.0096\n",
            "Epoch 16/25\n",
            "7416/7416 [==============================] - 3s 449us/step - loss: 2533.9260 - accuracy: 0.0102\n",
            "Epoch 17/25\n",
            "7416/7416 [==============================] - 3s 437us/step - loss: 2490.7466 - accuracy: 0.0090\n",
            "Epoch 18/25\n",
            "7416/7416 [==============================] - 3s 448us/step - loss: 2468.9237 - accuracy: 0.0093\n",
            "Epoch 19/25\n",
            "7416/7416 [==============================] - 3s 441us/step - loss: 2433.4294 - accuracy: 0.0105\n",
            "Epoch 20/25\n",
            "7416/7416 [==============================] - 3s 447us/step - loss: 2408.5123 - accuracy: 0.0121\n",
            "Epoch 21/25\n",
            "7416/7416 [==============================] - 3s 451us/step - loss: 2390.6778 - accuracy: 0.0109\n",
            "Epoch 22/25\n",
            "7416/7416 [==============================] - 3s 459us/step - loss: 2380.8826 - accuracy: 0.0113\n",
            "Epoch 23/25\n",
            "7416/7416 [==============================] - 3s 462us/step - loss: 2329.8601 - accuracy: 0.0107\n",
            "Epoch 24/25\n",
            "7416/7416 [==============================] - 3s 457us/step - loss: 2321.7685 - accuracy: 0.0107\n",
            "Epoch 25/25\n",
            "7416/7416 [==============================] - 3s 460us/step - loss: 2298.0826 - accuracy: 0.0101\n"
          ],
          "name": "stdout"
        },
        {
          "output_type": "execute_result",
          "data": {
            "text/plain": [
              "<keras.callbacks.callbacks.History at 0x7fcc4a10cf98>"
            ]
          },
          "metadata": {
            "tags": []
          },
          "execution_count": 28
        }
      ]
    },
    {
      "cell_type": "code",
      "metadata": {
        "id": "ocBKgSBvtXqP",
        "colab_type": "code",
        "colab": {}
      },
      "source": [
        "# x_input = array([[80, 85], [90, 95], [100, 105]])\n",
        "# x_input = x_input.reshape((1, n_steps, n_features))\n",
        "yhat = happyModel.predict(test_x, verbose=0)\n",
        "print(test_x)\n",
        "print(yhat)"
      ],
      "execution_count": null,
      "outputs": []
    },
    {
      "cell_type": "code",
      "metadata": {
        "id": "evwU-ccWg-jL",
        "colab_type": "code",
        "colab": {
          "base_uri": "https://localhost:8080/",
          "height": 54
        },
        "outputId": "981fd175-e666-4576-f9a7-c3742c8ae800"
      },
      "source": [
        "p=happyModel.get_layer(index=1)\n",
        "print(type(p))\n",
        "print(p.get_weights())"
      ],
      "execution_count": null,
      "outputs": [
        {
          "output_type": "stream",
          "text": [
            "<class 'keras.layers.convolutional.ZeroPadding2D'>\n",
            "[]\n"
          ],
          "name": "stdout"
        }
      ]
    },
    {
      "cell_type": "code",
      "metadata": {
        "id": "B2ViBcKbbca_",
        "colab_type": "code",
        "colab": {
          "base_uri": "https://localhost:8080/",
          "height": 35
        },
        "outputId": "421cd58a-6c36-4894-a081-8529e3f0e8ed"
      },
      "source": [
        "preds = happyModel.evaluate(x=test_x, y=test_y, batch_size=150)"
      ],
      "execution_count": null,
      "outputs": [
        {
          "output_type": "stream",
          "text": [
            "3155/3155 [==============================] - 1s 159us/step\n"
          ],
          "name": "stdout"
        }
      ]
    },
    {
      "cell_type": "code",
      "metadata": {
        "id": "m0FGI1NfhE_I",
        "colab_type": "code",
        "colab": {
          "base_uri": "https://localhost:8080/",
          "height": 54
        },
        "outputId": "046e68a8-6597-4546-82c6-5e0faca20274"
      },
      "source": [
        "print()\n",
        "print (\"Loss = \" + str(preds[0]))\n",
        "print (\"Test Accuracy = \" + str(preds[1]*100))"
      ],
      "execution_count": null,
      "outputs": [
        {
          "output_type": "stream",
          "text": [
            "\n",
            "Test Accuracy = 0.9508715942502022\n"
          ],
          "name": "stdout"
        }
      ]
    },
    {
      "cell_type": "code",
      "metadata": {
        "id": "OqyoIfkyhTcw",
        "colab_type": "code",
        "colab": {}
      },
      "source": [
        ""
      ],
      "execution_count": null,
      "outputs": []
    }
  ]
}